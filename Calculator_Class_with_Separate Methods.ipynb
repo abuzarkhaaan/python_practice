{
  "nbformat": 4,
  "nbformat_minor": 0,
  "metadata": {
    "colab": {
      "provenance": [],
      "authorship_tag": "ABX9TyPY4TILCNfaene5TLADUmeY"
    },
    "kernelspec": {
      "name": "python3",
      "display_name": "Python 3"
    },
    "language_info": {
      "name": "python"
    }
  },
  "cells": [
    {
      "cell_type": "code",
      "execution_count": null,
      "metadata": {
        "colab": {
          "base_uri": "https://localhost:8080/"
        },
        "id": "Q3l_9S6dnzJI",
        "outputId": "ced6fd63-a820-4596-9d06-7be0f1eb9056"
      },
      "outputs": [
        {
          "output_type": "stream",
          "name": "stdout",
          "text": [
            "['khan', 1, 1, 0]\n"
          ]
        }
      ],
      "source": [
        "class Calculator:\n",
        "    def add(self, a, b):\n",
        "        return a + b\n",
        "\n",
        "    def subtract(self, a, b):\n",
        "        return a - b\n",
        "\n",
        "    def multiply(self, a, b):\n",
        "        return a * b\n",
        "\n",
        "    def divide(self, a, b):\n",
        "        if b != 0:\n",
        "            return a / b\n",
        "        else:\n",
        "            return \"Cannot divide by zero.\"\n",
        "\n",
        "# Example usage\n",
        "my_calculator = Calculator()\n",
        "result = my_calculator.add(10, 5)\n",
        "print(f\"Addition: {result}\")\n",
        "result = my_calculator.divide(10, 2)\n",
        "print(f\"Division: {result}\")\n",
        "# ... other operations\n"
      ]
    },
    {
      "cell_type": "code",
      "source": [],
      "metadata": {
        "id": "7LnvNeQAoAkr"
      },
      "execution_count": null,
      "outputs": []
    }
  ]
}