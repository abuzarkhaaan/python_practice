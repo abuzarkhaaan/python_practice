{
  "nbformat": 4,
  "nbformat_minor": 0,
  "metadata": {
    "colab": {
      "provenance": [],
      "authorship_tag": "ABX9TyNLIfg10/vS0YPcncjeZDyM",
      "include_colab_link": true
    },
    "kernelspec": {
      "name": "python3",
      "display_name": "Python 3"
    },
    "language_info": {
      "name": "python"
    }
  },
  "cells": [
    {
      "cell_type": "markdown",
      "metadata": {
        "id": "view-in-github",
        "colab_type": "text"
      },
      "source": [
        "<a href=\"https://colab.research.google.com/github/abuzarkhaaan/python_practice/blob/main/Calculator_Class_with_Constructor.ipynb\" target=\"_parent\"><img src=\"https://colab.research.google.com/assets/colab-badge.svg\" alt=\"Open In Colab\"/></a>"
      ]
    },
    {
      "cell_type": "code",
      "execution_count": null,
      "metadata": {
        "colab": {
          "base_uri": "https://localhost:8080/"
        },
        "id": "Q3l_9S6dnzJI",
        "outputId": "ced6fd63-a820-4596-9d06-7be0f1eb9056"
      },
      "outputs": [
        {
          "output_type": "stream",
          "name": "stdout",
          "text": [
            "['khan', 1, 1, 0]\n"
          ]
        }
      ],
      "source": [
        "class Calculator:\n",
        "    def __init__(self, x, y):\n",
        "        self.x = x\n",
        "        self.y = y\n",
        "\n",
        "    def add(self):\n",
        "        return self.x + self.y\n",
        "\n",
        "    def subtract(self):\n",
        "        return self.x - self.y\n",
        "\n",
        "    def multiply(self):\n",
        "        return self.x * self.y\n",
        "\n",
        "    def divide(self):\n",
        "        if self.y != 0:\n",
        "            return self.x / self.y\n",
        "        else:\n",
        "            return \"Cannot divide by zero.\"\n",
        "\n",
        "\n",
        "my_calculator = Calculator(10, 5)\n",
        "print(f\"Addition: {my_calculator.add()}\")\n",
        "print(f\"Division: {my_calculator.divide()}\")\n"
      ]
    },
    {
      "cell_type": "code",
      "source": [],
      "metadata": {
        "id": "7LnvNeQAoAkr"
      },
      "execution_count": null,
      "outputs": []
    }
  ]
}