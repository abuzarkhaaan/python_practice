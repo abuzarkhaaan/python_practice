{
  "nbformat": 4,
  "nbformat_minor": 0,
  "metadata": {
    "colab": {
      "provenance": [],
      "authorship_tag": "ABX9TyOR3uMIeSKpR+oj+CwQbqVK",
      "include_colab_link": true
    },
    "kernelspec": {
      "name": "python3",
      "display_name": "Python 3"
    },
    "language_info": {
      "name": "python"
    }
  },
  "cells": [
    {
      "cell_type": "markdown",
      "metadata": {
        "id": "view-in-github",
        "colab_type": "text"
      },
      "source": [
        "<a href=\"https://colab.research.google.com/github/abuzarkhaaan/python_practice/blob/main/Untitled1.ipynb\" target=\"_parent\"><img src=\"https://colab.research.google.com/assets/colab-badge.svg\" alt=\"Open In Colab\"/></a>"
      ]
    },
    {
      "cell_type": "code",
      "execution_count": null,
      "metadata": {
        "colab": {
          "base_uri": "https://localhost:8080/"
        },
        "id": "Q3l_9S6dnzJI",
        "outputId": "ced6fd63-a820-4596-9d06-7be0f1eb9056"
      },
      "outputs": [
        {
          "output_type": "stream",
          "name": "stdout",
          "text": [
            "['khan', 1, 1, 0]\n"
          ]
        }
      ],
      "source": [
        "a=['abuzar','khan',1,1,0]\n",
        "print(a[1:5])\n",
        "# Genetic algorithm for the knapsack problem\n",
        "\n",
        "import random\n",
        "\n",
        "# Define the items, weights, values, and the weight limit\n",
        "items = [\"A\", \"B\", \"C\", \"D\", \"E\", \"F\", \"G\", \"H\", \"I\", \"J\"]\n",
        "weights = [10, 20, 30, 40, 50, 60, 70, 80, 90, 100]\n",
        "values = [15, 25, 35, 45, 55, 65, 75, 85, 95, 105]\n",
        "limit = 250\n",
        "\n",
        "# Define the population size, crossover rate, mutation rate, and the number of generations\n",
        "pop_size = 100\n",
        "crossover_rate = 0.8\n",
        "mutation_rate = 0.1\n",
        "generations = 50\n",
        "\n",
        "# Define a function to create a random chromosome\n",
        "def create_chromosome():\n",
        "  chromosome = \"\"\n",
        "  for i in range(len(items)):\n",
        "    chromosome += str(random.randint(0, 1))\n",
        "  return chromosome\n",
        "\n",
        "# Define a function to calculate the fitness of a chromosome\n",
        "def fitness(chromosome):\n",
        "  total_weight = 0\n",
        "  total_value = 0\n",
        "  for i in range(len(chromosome)):\n",
        "    if chromosome[i] == \"1\":\n",
        "      total_weight += weights[i]\n",
        "      total_value += values[i"
      ]
    },
    {
      "cell_type": "code",
      "source": [],
      "metadata": {
        "id": "7LnvNeQAoAkr"
      },
      "execution_count": null,
      "outputs": []
    }
  ]
}