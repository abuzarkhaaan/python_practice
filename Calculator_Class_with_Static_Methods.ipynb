{
  "nbformat": 4,
  "nbformat_minor": 0,
  "metadata": {
    "colab": {
      "provenance": [],
      "authorship_tag": "ABX9TyMfjJCWLkoCgvFgvxTaUHw8",
      "include_colab_link": true
    },
    "kernelspec": {
      "name": "python3",
      "display_name": "Python 3"
    },
    "language_info": {
      "name": "python"
    }
  },
  "cells": [
    {
      "cell_type": "markdown",
      "metadata": {
        "id": "view-in-github",
        "colab_type": "text"
      },
      "source": [
        "<a href=\"https://colab.research.google.com/github/abuzarkhaaan/python_practice/blob/main/Calculator_Class_with_Static_Methods.ipynb\" target=\"_parent\"><img src=\"https://colab.research.google.com/assets/colab-badge.svg\" alt=\"Open In Colab\"/></a>"
      ]
    },
    {
      "cell_type": "code",
      "execution_count": null,
      "metadata": {
        "colab": {
          "base_uri": "https://localhost:8080/"
        },
        "id": "Q3l_9S6dnzJI",
        "outputId": "ced6fd63-a820-4596-9d06-7be0f1eb9056"
      },
      "outputs": [
        {
          "output_type": "stream",
          "name": "stdout",
          "text": [
            "['khan', 1, 1, 0]\n"
          ]
        }
      ],
      "source": [
        "class Calculator:\n",
        "    @staticmethod\n",
        "    def add(x, y):\n",
        "        return x + y\n",
        "\n",
        "    @staticmethod\n",
        "    def subtract(x, y):\n",
        "        return x - y\n",
        "\n",
        "    @staticmethod\n",
        "    def multiply(x, y):\n",
        "        return x * y\n",
        "\n",
        "    @staticmethod\n",
        "    def divide(x, y):\n",
        "        if y != 0:\n",
        "            return x / y\n",
        "        else:\n",
        "            return \"Cannot divide by zero.\"\n",
        "\n",
        "\n",
        "result = Calculator.add(10, 5)\n",
        "print(f\"Addition: {result}\")\n",
        "result = Calculator.divide(10, 2)\n",
        "print(f\"Division: {result}\")\n"
      ]
    },
    {
      "cell_type": "code",
      "source": [],
      "metadata": {
        "id": "7LnvNeQAoAkr"
      },
      "execution_count": null,
      "outputs": []
    }
  ]
}